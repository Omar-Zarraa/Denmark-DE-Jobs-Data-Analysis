{
 "cells": [
  {
   "cell_type": "code",
   "execution_count": 41,
   "id": "0e53b062",
   "metadata": {},
   "outputs": [],
   "source": [
    "import ast\n",
    "import pandas as pd\n",
    "import seaborn as sns\n",
    "from datasets import load_dataset\n",
    "import matplotlib.pyplot as plt\n",
    "\n",
    "dataset = load_dataset('lukebarousse/data_jobs')\n",
    "df = dataset['train'].to_pandas()\n",
    "\n",
    "#Data Cleanup\n",
    "df['job_posted_date']=pd.to_datetime(df['job_posted_date'])\n",
    "df['job_skills']=df['job_skills'].apply(lambda x: ast.literal_eval(x) if pd.notna(x) else x)"
   ]
  },
  {
   "cell_type": "code",
   "execution_count": 42,
   "id": "1b91bbf4",
   "metadata": {},
   "outputs": [],
   "source": [
    "df_DK = df[df[\"job_country\"] == \"Denmark\"].dropna(subset=[\"salary_year_avg\"])\n"
   ]
  },
  {
   "cell_type": "code",
   "execution_count": 44,
   "id": "bc517b59",
   "metadata": {},
   "outputs": [
    {
     "data": {
      "text/plain": [
       "['Data Scientist',\n",
       " 'Data Analyst',\n",
       " 'Data Engineer',\n",
       " 'Machine Learning Engineer']"
      ]
     },
     "execution_count": 44,
     "metadata": {},
     "output_type": "execute_result"
    }
   ],
   "source": [
    "job_titles=df_DK['job_title_short'].sort_values().value_counts().index[:4].tolist()\n",
    "job_titles"
   ]
  },
  {
   "cell_type": "code",
   "execution_count": 45,
   "id": "124fc596",
   "metadata": {},
   "outputs": [],
   "source": [
    "df_DK_top6=df_DK[df_DK['job_title_short'].isin(job_titles)]"
   ]
  },
  {
   "cell_type": "code",
   "execution_count": 46,
   "id": "df2da8d4",
   "metadata": {},
   "outputs": [],
   "source": [
    "job_order = (\n",
    "    df_DK_top6.groupby(\"job_title_short\")[\"salary_year_avg\"]\n",
    "    .median()\n",
    "    .sort_values(ascending=False)\n",
    "    .index\n",
    ")"
   ]
  },
  {
   "cell_type": "code",
   "execution_count": 52,
   "id": "f291735e",
   "metadata": {},
   "outputs": [
    {
     "data": {
      "image/png": "[encoded data removed]",
      "text/plain": [
       "<Figure size 640x480 with 1 Axes>"
      ]
     },
     "metadata": {},
     "output_type": "display_data"
    }
   ],
   "source": [
    "sns.boxplot(data=df_DK_top6, x='salary_year_avg', y='job_title_short',order=job_order)\n",
    "sns.set_theme(style='ticks')\n",
    "\n",
    "# this is all the same\n",
    "plt.title('Salary Distributions in Denmark')\n",
    "plt.xlabel('Yearly Salary (USD)')\n",
    "plt.ylabel('')\n",
    "plt.xlim(0, 250000) \n",
    "ticks_x = plt.FuncFormatter(lambda y, pos: f'${int(y/1000)}K')\n",
    "plt.gca().xaxis.set_major_formatter(ticks_x)\n",
    "plt.show()"
   ]
  },
  {
   "cell_type": "code",
   "execution_count": 55,
   "id": "17184311",
   "metadata": {},
   "outputs": [],
   "source": [
    "df_DE_DK=df[(df['job_title_short']=='Data Engineer') & (df['job_country']=='Denmark')].copy()\n",
    "df_DE_DK=df_DE_DK.dropna(subset=['salary_year_avg'])"
   ]
  },
  {
   "cell_type": "code",
   "execution_count": 56,
   "id": "05317cd2",
   "metadata": {},
   "outputs": [],
   "source": [
    "df_DE_DK=df_DE_DK.explode('job_skills')"
   ]
  },
  {
   "cell_type": "code",
   "execution_count": 62,
   "id": "f7a7d0fa",
   "metadata": {},
   "outputs": [
    {
     "data": {
      "text/html": [
       "<div>\n",
       "<style scoped>\n",
       "    .dataframe tbody tr th:only-of-type {\n",
       "        vertical-align: middle;\n",
       "    }\n",
       "\n",
       "    .dataframe tbody tr th {\n",
       "        vertical-align: top;\n",
       "    }\n",
       "\n",
       "    .dataframe thead th {\n",
       "        text-align: right;\n",
       "    }\n",
       "</style>\n",
       "<table border=\"1\" class=\"dataframe\">\n",
       "  <thead>\n",
       "    <tr style=\"text-align: right;\">\n",
       "      <th></th>\n",
       "      <th>count</th>\n",
       "      <th>median</th>\n",
       "    </tr>\n",
       "    <tr>\n",
       "      <th>job_skills</th>\n",
       "      <th></th>\n",
       "      <th></th>\n",
       "    </tr>\n",
       "  </thead>\n",
       "  <tbody>\n",
       "    <tr>\n",
       "      <th>jenkins</th>\n",
       "      <td>1</td>\n",
       "      <td>147500.0</td>\n",
       "    </tr>\n",
       "    <tr>\n",
       "      <th>sap</th>\n",
       "      <td>1</td>\n",
       "      <td>147500.0</td>\n",
       "    </tr>\n",
       "    <tr>\n",
       "      <th>oracle</th>\n",
       "      <td>1</td>\n",
       "      <td>147500.0</td>\n",
       "    </tr>\n",
       "    <tr>\n",
       "      <th>spark</th>\n",
       "      <td>1</td>\n",
       "      <td>147500.0</td>\n",
       "    </tr>\n",
       "    <tr>\n",
       "      <th>sql</th>\n",
       "      <td>2</td>\n",
       "      <td>122136.5</td>\n",
       "    </tr>\n",
       "    <tr>\n",
       "      <th>linux</th>\n",
       "      <td>1</td>\n",
       "      <td>96773.0</td>\n",
       "    </tr>\n",
       "    <tr>\n",
       "      <th>aws</th>\n",
       "      <td>1</td>\n",
       "      <td>96773.0</td>\n",
       "    </tr>\n",
       "    <tr>\n",
       "      <th>python</th>\n",
       "      <td>1</td>\n",
       "      <td>96773.0</td>\n",
       "    </tr>\n",
       "    <tr>\n",
       "      <th>phoenix</th>\n",
       "      <td>1</td>\n",
       "      <td>96773.0</td>\n",
       "    </tr>\n",
       "    <tr>\n",
       "      <th>nosql</th>\n",
       "      <td>1</td>\n",
       "      <td>96773.0</td>\n",
       "    </tr>\n",
       "  </tbody>\n",
       "</table>\n",
       "</div>"
      ],
      "text/plain": [
       "            count    median\n",
       "job_skills                 \n",
       "jenkins         1  147500.0\n",
       "sap             1  147500.0\n",
       "oracle          1  147500.0\n",
       "spark           1  147500.0\n",
       "sql             2  122136.5\n",
       "linux           1   96773.0\n",
       "aws             1   96773.0\n",
       "python          1   96773.0\n",
       "phoenix         1   96773.0\n",
       "nosql           1   96773.0"
      ]
     },
     "execution_count": 62,
     "metadata": {},
     "output_type": "execute_result"
    }
   ],
   "source": [
    "df_DE_top_pay = (\n",
    "    df_DE_DK.groupby(\"job_skills\")[\"salary_year_avg\"]\n",
    "    .agg([\"count\", \"median\"])\n",
    "    .sort_values(by=\"median\", ascending=False)\n",
    ")\n",
    "\n",
    "df_DE_top_pay=df_DE_top_pay.head(10)\n",
    "df_DE_top_pay"
   ]
  },
  {
   "cell_type": "code",
   "execution_count": null,
   "id": "33d32e91",
   "metadata": {},
   "outputs": [
    {
     "data": {
      "text/html": [
       "<div>\n",
       "<style scoped>\n",
       "    .dataframe tbody tr th:only-of-type {\n",
       "        vertical-align: middle;\n",
       "    }\n",
       "\n",
       "    .dataframe tbody tr th {\n",
       "        vertical-align: top;\n",
       "    }\n",
       "\n",
       "    .dataframe thead th {\n",
       "        text-align: right;\n",
       "    }\n",
       "</style>\n",
       "<table border=\"1\" class=\"dataframe\">\n",
       "  <thead>\n",
       "    <tr style=\"text-align: right;\">\n",
       "      <th></th>\n",
       "      <th>count</th>\n",
       "      <th>median</th>\n",
       "    </tr>\n",
       "    <tr>\n",
       "      <th>job_skills</th>\n",
       "      <th></th>\n",
       "      <th></th>\n",
       "    </tr>\n",
       "  </thead>\n",
       "  <tbody>\n",
       "    <tr>\n",
       "      <th>jenkins</th>\n",
       "      <td>1</td>\n",
       "      <td>147500.0</td>\n",
       "    </tr>\n",
       "    <tr>\n",
       "      <th>sap</th>\n",
       "      <td>1</td>\n",
       "      <td>147500.0</td>\n",
       "    </tr>\n",
       "    <tr>\n",
       "      <th>oracle</th>\n",
       "      <td>1</td>\n",
       "      <td>147500.0</td>\n",
       "    </tr>\n",
       "    <tr>\n",
       "      <th>sql</th>\n",
       "      <td>2</td>\n",
       "      <td>122136.5</td>\n",
       "    </tr>\n",
       "    <tr>\n",
       "      <th>aws</th>\n",
       "      <td>1</td>\n",
       "      <td>96773.0</td>\n",
       "    </tr>\n",
       "    <tr>\n",
       "      <th>linux</th>\n",
       "      <td>1</td>\n",
       "      <td>96773.0</td>\n",
       "    </tr>\n",
       "    <tr>\n",
       "      <th>phoenix</th>\n",
       "      <td>1</td>\n",
       "      <td>96773.0</td>\n",
       "    </tr>\n",
       "    <tr>\n",
       "      <th>nosql</th>\n",
       "      <td>1</td>\n",
       "      <td>96773.0</td>\n",
       "    </tr>\n",
       "    <tr>\n",
       "      <th>python</th>\n",
       "      <td>1</td>\n",
       "      <td>96773.0</td>\n",
       "    </tr>\n",
       "    <tr>\n",
       "      <th>redshift</th>\n",
       "      <td>1</td>\n",
       "      <td>96773.0</td>\n",
       "    </tr>\n",
       "  </tbody>\n",
       "</table>\n",
       "</div>"
      ],
      "text/plain": [
       "            count    median\n",
       "job_skills                 \n",
       "jenkins         1  147500.0\n",
       "sap             1  147500.0\n",
       "oracle          1  147500.0\n",
       "sql             2  122136.5\n",
       "aws             1   96773.0\n",
       "linux           1   96773.0\n",
       "phoenix         1   96773.0\n",
       "nosql           1   96773.0\n",
       "python          1   96773.0\n",
       "redshift        1   96773.0"
      ]
     },
     "execution_count": 65,
     "metadata": {},
     "output_type": "execute_result"
    }
   ],
   "source": []
  },
  {
   "cell_type": "code",
   "execution_count": null,
   "id": "ce6992dc",
   "metadata": {},
   "outputs": [
    {
     "data": {
      "image/png": "[encoded data removed]",
      "text/plain": [
       "<Figure size 640x480 with 1 Axes>"
      ]
     },
     "metadata": {},
     "output_type": "display_data"
    }
   ],
   "source": [
    "ax=plt.gca()\n",
    "\n",
    "sns.set_theme(style='ticks')\n",
    "\n",
    "sns.barplot(data=df_DE_top_pay, x='median', y=df_DE_top_pay.index, hue='median', ax=ax, palette='flare')\n",
    "ax.legend().remove()\n",
    "\n",
    "ax.set_title('Top 10 Highest Paid Skills for Data Engineers')\n",
    "ax.set_ylabel('')\n",
    "ax.set_xlabel('')\n",
    "ax.xaxis.set_major_formatter(plt.FuncFormatter(lambda x, _: f'${int(x/1000)}K'))\n",
    "\n",
    "plt.tight_layout()\n",
    "plt.show()"
   ]
  }
 ],
 "metadata": {
  "kernelspec": {
   "display_name": "DataAnalysis",
   "language": "python",
   "name": "python3"
  },
  "language_info": {
   "codemirror_mode": {
    "name": "ipython",
    "version": 3
   },
   "file_extension": ".py",
   "mimetype": "text/x-python",
   "name": "python",
   "nbconvert_exporter": "python",
   "pygments_lexer": "ipython3",
   "version": "3.12.3"
  }
 },
 "nbformat": 4,
 "nbformat_minor": 5
}
